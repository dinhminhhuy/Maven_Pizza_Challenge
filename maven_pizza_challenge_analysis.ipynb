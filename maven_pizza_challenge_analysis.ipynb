{
 "cells": [
  {
   "cell_type": "code",
   "execution_count": 1,
   "id": "f41bd59c-f4ab-4b27-9d0c-37575a9e2fc6",
   "metadata": {},
   "outputs": [],
   "source": [
    "import math\n",
    "import pandas as pd\n",
    "import numpy as np\n",
    "import matplotlib.pyplot as plt\n",
    "import seaborn as sns"
   ]
  },
  {
   "attachments": {},
   "cell_type": "markdown",
   "id": "2628a20e-4911-415f-ace0-323a2001e4f0",
   "metadata": {},
   "source": [
    "# Data dictionary"
   ]
  },
  {
   "attachments": {},
   "cell_type": "markdown",
   "id": "3c9a5e9c-ce65-4d56-82b4-1e35238faf32",
   "metadata": {},
   "source": [
    "|Table|Field|Description|\n",
    "|:----|:----|:----------|\n",
    "|orders|order_id|Unique idenfier for each order placed by a table|\n",
    "|orders|date|Data the order was placed (entered into the system prior to cooking & serving)|\n",
    "|order|time|Time the order was placed (entered into the system prior to cooking & serving)|\n",
    "|order_details|order_details_id|Unique identifier for each pizza placed within each order (pizzas of the same type and size are kept in the same row, and the quantity increases)\n",
    "|order_details|order_id|Foreign key that ties the details in each order to the order itself|\n",
    "|order_details|pizza_id|Foreign key that ties the pizza ordered to its details, like size and price|\n",
    "|order_details|quantity|Quantity ordered for each pizza of the same type and size|\n",
    "|pizzas|pizza_id|Unique identifier for each pizza (constituted by its type and size)|\n",
    "|pizzas|pizza_type_id|Foreign key that ties each pizza to its broader pizza type|\n",
    "|pizzas|size|Size of the pizza (Small, Medium, Large, X Large, or XX Large)|\n",
    "|pizzas|price|Price of the pizza in USD|\n",
    "|pizza_types|pizza_type_id|Unique identifier for each pizza type|\n",
    "|pizza_types|name|Name of the pizza as shown in the menu|\n",
    "|pizza_types|category|Category that the pizza fall under in the menu (Classic, Chicken, Supreme, or Veggie)|\n",
    "|pizza_types|ingredients|Comma-delimited ingredients used in the pizza as shown in the menu (they all include Mozzarella Cheese, even if not specified; and they all include Tomato Sauce, unless another sauce is specified)|"
   ]
  },
  {
   "attachments": {},
   "cell_type": "markdown",
   "id": "183c2ebe-cea4-4bec-88e5-271c2e79b8f6",
   "metadata": {
    "jp-MarkdownHeadingCollapsed": true,
    "tags": []
   },
   "source": [
    "# Importing the datasets"
   ]
  },
  {
   "cell_type": "code",
   "execution_count": 3,
   "id": "9cfa3d37-d419-4209-bdb1-2dd40dd80464",
   "metadata": {},
   "outputs": [
    {
     "data": {
      "text/html": [
       "<div>\n",
       "<style scoped>\n",
       "    .dataframe tbody tr th:only-of-type {\n",
       "        vertical-align: middle;\n",
       "    }\n",
       "\n",
       "    .dataframe tbody tr th {\n",
       "        vertical-align: top;\n",
       "    }\n",
       "\n",
       "    .dataframe thead th {\n",
       "        text-align: right;\n",
       "    }\n",
       "</style>\n",
       "<table border=\"1\" class=\"dataframe\">\n",
       "  <thead>\n",
       "    <tr style=\"text-align: right;\">\n",
       "      <th></th>\n",
       "      <th>date_time</th>\n",
       "    </tr>\n",
       "    <tr>\n",
       "      <th>order_id</th>\n",
       "      <th></th>\n",
       "    </tr>\n",
       "  </thead>\n",
       "  <tbody>\n",
       "    <tr>\n",
       "      <th>21346</th>\n",
       "      <td>2015-12-31 20:51:07</td>\n",
       "    </tr>\n",
       "    <tr>\n",
       "      <th>21347</th>\n",
       "      <td>2015-12-31 21:14:37</td>\n",
       "    </tr>\n",
       "    <tr>\n",
       "      <th>21348</th>\n",
       "      <td>2015-12-31 21:23:10</td>\n",
       "    </tr>\n",
       "    <tr>\n",
       "      <th>21349</th>\n",
       "      <td>2015-12-31 22:09:54</td>\n",
       "    </tr>\n",
       "    <tr>\n",
       "      <th>21350</th>\n",
       "      <td>2015-12-31 23:02:05</td>\n",
       "    </tr>\n",
       "  </tbody>\n",
       "</table>\n",
       "</div>"
      ],
      "text/plain": [
       "                   date_time\n",
       "order_id                    \n",
       "21346    2015-12-31 20:51:07\n",
       "21347    2015-12-31 21:14:37\n",
       "21348    2015-12-31 21:23:10\n",
       "21349    2015-12-31 22:09:54\n",
       "21350    2015-12-31 23:02:05"
      ]
     },
     "execution_count": 3,
     "metadata": {},
     "output_type": "execute_result"
    }
   ],
   "source": [
    "orders = pd.read_csv(\n",
    "    'orders.csv',\n",
    "    index_col='order_id', parse_dates = [['date', 'time']]                \n",
    ")\n",
    "orders.tail()"
   ]
  },
  {
   "cell_type": "code",
   "execution_count": 4,
   "id": "b96e52c2-f729-4d57-a1f7-9f0454f1b069",
   "metadata": {},
   "outputs": [
    {
     "data": {
      "text/html": [
       "<div>\n",
       "<style scoped>\n",
       "    .dataframe tbody tr th:only-of-type {\n",
       "        vertical-align: middle;\n",
       "    }\n",
       "\n",
       "    .dataframe tbody tr th {\n",
       "        vertical-align: top;\n",
       "    }\n",
       "\n",
       "    .dataframe thead th {\n",
       "        text-align: right;\n",
       "    }\n",
       "</style>\n",
       "<table border=\"1\" class=\"dataframe\">\n",
       "  <thead>\n",
       "    <tr style=\"text-align: right;\">\n",
       "      <th></th>\n",
       "      <th>order_id</th>\n",
       "      <th>pizza_id</th>\n",
       "      <th>quantity</th>\n",
       "    </tr>\n",
       "    <tr>\n",
       "      <th>order_details_id</th>\n",
       "      <th></th>\n",
       "      <th></th>\n",
       "      <th></th>\n",
       "    </tr>\n",
       "  </thead>\n",
       "  <tbody>\n",
       "    <tr>\n",
       "      <th>48616</th>\n",
       "      <td>21348</td>\n",
       "      <td>ckn_alfredo_m</td>\n",
       "      <td>1</td>\n",
       "    </tr>\n",
       "    <tr>\n",
       "      <th>48617</th>\n",
       "      <td>21348</td>\n",
       "      <td>four_cheese_l</td>\n",
       "      <td>1</td>\n",
       "    </tr>\n",
       "    <tr>\n",
       "      <th>48618</th>\n",
       "      <td>21348</td>\n",
       "      <td>napolitana_s</td>\n",
       "      <td>1</td>\n",
       "    </tr>\n",
       "    <tr>\n",
       "      <th>48619</th>\n",
       "      <td>21349</td>\n",
       "      <td>mexicana_l</td>\n",
       "      <td>1</td>\n",
       "    </tr>\n",
       "    <tr>\n",
       "      <th>48620</th>\n",
       "      <td>21350</td>\n",
       "      <td>bbq_ckn_s</td>\n",
       "      <td>1</td>\n",
       "    </tr>\n",
       "  </tbody>\n",
       "</table>\n",
       "</div>"
      ],
      "text/plain": [
       "                  order_id       pizza_id  quantity\n",
       "order_details_id                                   \n",
       "48616                21348  ckn_alfredo_m         1\n",
       "48617                21348  four_cheese_l         1\n",
       "48618                21348   napolitana_s         1\n",
       "48619                21349     mexicana_l         1\n",
       "48620                21350      bbq_ckn_s         1"
      ]
     },
     "execution_count": 4,
     "metadata": {},
     "output_type": "execute_result"
    }
   ],
   "source": [
    "order_details = pd.read_csv(\n",
    "    'order_details.csv', \n",
    "    index_col = 'order_details_id'\n",
    ")\n",
    "order_details.tail()"
   ]
  },
  {
   "cell_type": "code",
   "execution_count": 5,
   "id": "4acc9269-2b50-4e20-9978-20684b697127",
   "metadata": {},
   "outputs": [
    {
     "data": {
      "text/html": [
       "<div>\n",
       "<style scoped>\n",
       "    .dataframe tbody tr th:only-of-type {\n",
       "        vertical-align: middle;\n",
       "    }\n",
       "\n",
       "    .dataframe tbody tr th {\n",
       "        vertical-align: top;\n",
       "    }\n",
       "\n",
       "    .dataframe thead th {\n",
       "        text-align: right;\n",
       "    }\n",
       "</style>\n",
       "<table border=\"1\" class=\"dataframe\">\n",
       "  <thead>\n",
       "    <tr style=\"text-align: right;\">\n",
       "      <th></th>\n",
       "      <th>pizza_type_id</th>\n",
       "      <th>size</th>\n",
       "      <th>price</th>\n",
       "    </tr>\n",
       "    <tr>\n",
       "      <th>pizza_id</th>\n",
       "      <th></th>\n",
       "      <th></th>\n",
       "      <th></th>\n",
       "    </tr>\n",
       "  </thead>\n",
       "  <tbody>\n",
       "    <tr>\n",
       "      <th>spinach_fet_m</th>\n",
       "      <td>spinach_fet</td>\n",
       "      <td>M</td>\n",
       "      <td>16.00</td>\n",
       "    </tr>\n",
       "    <tr>\n",
       "      <th>spinach_fet_l</th>\n",
       "      <td>spinach_fet</td>\n",
       "      <td>L</td>\n",
       "      <td>20.25</td>\n",
       "    </tr>\n",
       "    <tr>\n",
       "      <th>veggie_veg_s</th>\n",
       "      <td>veggie_veg</td>\n",
       "      <td>S</td>\n",
       "      <td>12.00</td>\n",
       "    </tr>\n",
       "    <tr>\n",
       "      <th>veggie_veg_m</th>\n",
       "      <td>veggie_veg</td>\n",
       "      <td>M</td>\n",
       "      <td>16.00</td>\n",
       "    </tr>\n",
       "    <tr>\n",
       "      <th>veggie_veg_l</th>\n",
       "      <td>veggie_veg</td>\n",
       "      <td>L</td>\n",
       "      <td>20.25</td>\n",
       "    </tr>\n",
       "  </tbody>\n",
       "</table>\n",
       "</div>"
      ],
      "text/plain": [
       "              pizza_type_id size  price\n",
       "pizza_id                               \n",
       "spinach_fet_m   spinach_fet    M  16.00\n",
       "spinach_fet_l   spinach_fet    L  20.25\n",
       "veggie_veg_s     veggie_veg    S  12.00\n",
       "veggie_veg_m     veggie_veg    M  16.00\n",
       "veggie_veg_l     veggie_veg    L  20.25"
      ]
     },
     "execution_count": 5,
     "metadata": {},
     "output_type": "execute_result"
    }
   ],
   "source": [
    "pizzas = pd.read_csv(\n",
    "    'pizzas.csv', \n",
    "    index_col = 'pizza_id'\n",
    ")\n",
    "pizzas.tail()"
   ]
  },
  {
   "cell_type": "code",
   "execution_count": 6,
   "id": "2cdb09a4-160b-41ff-bdcf-a16c8b91b66d",
   "metadata": {},
   "outputs": [
    {
     "data": {
      "text/html": [
       "<div>\n",
       "<style scoped>\n",
       "    .dataframe tbody tr th:only-of-type {\n",
       "        vertical-align: middle;\n",
       "    }\n",
       "\n",
       "    .dataframe tbody tr th {\n",
       "        vertical-align: top;\n",
       "    }\n",
       "\n",
       "    .dataframe thead th {\n",
       "        text-align: right;\n",
       "    }\n",
       "</style>\n",
       "<table border=\"1\" class=\"dataframe\">\n",
       "  <thead>\n",
       "    <tr style=\"text-align: right;\">\n",
       "      <th></th>\n",
       "      <th>name</th>\n",
       "      <th>category</th>\n",
       "      <th>ingredients</th>\n",
       "    </tr>\n",
       "    <tr>\n",
       "      <th>pizza_type_id</th>\n",
       "      <th></th>\n",
       "      <th></th>\n",
       "      <th></th>\n",
       "    </tr>\n",
       "  </thead>\n",
       "  <tbody>\n",
       "    <tr>\n",
       "      <th>mediterraneo</th>\n",
       "      <td>The Mediterranean Pizza</td>\n",
       "      <td>Veggie</td>\n",
       "      <td>Spinach, Artichokes, Kalamata Olives, Sun-drie...</td>\n",
       "    </tr>\n",
       "    <tr>\n",
       "      <th>mexicana</th>\n",
       "      <td>The Mexicana Pizza</td>\n",
       "      <td>Veggie</td>\n",
       "      <td>Tomatoes, Red Peppers, Jalapeno Peppers, Red O...</td>\n",
       "    </tr>\n",
       "    <tr>\n",
       "      <th>spin_pesto</th>\n",
       "      <td>The Spinach Pesto Pizza</td>\n",
       "      <td>Veggie</td>\n",
       "      <td>Spinach, Artichokes, Tomatoes, Sun-dried Tomat...</td>\n",
       "    </tr>\n",
       "    <tr>\n",
       "      <th>spinach_fet</th>\n",
       "      <td>The Spinach and Feta Pizza</td>\n",
       "      <td>Veggie</td>\n",
       "      <td>Spinach, Mushrooms, Red Onions, Feta Cheese, G...</td>\n",
       "    </tr>\n",
       "    <tr>\n",
       "      <th>veggie_veg</th>\n",
       "      <td>The Vegetables + Vegetables Pizza</td>\n",
       "      <td>Veggie</td>\n",
       "      <td>Mushrooms, Tomatoes, Red Peppers, Green Pepper...</td>\n",
       "    </tr>\n",
       "  </tbody>\n",
       "</table>\n",
       "</div>"
      ],
      "text/plain": [
       "                                            name category   \n",
       "pizza_type_id                                               \n",
       "mediterraneo             The Mediterranean Pizza   Veggie  \\\n",
       "mexicana                      The Mexicana Pizza   Veggie   \n",
       "spin_pesto               The Spinach Pesto Pizza   Veggie   \n",
       "spinach_fet           The Spinach and Feta Pizza   Veggie   \n",
       "veggie_veg     The Vegetables + Vegetables Pizza   Veggie   \n",
       "\n",
       "                                                     ingredients  \n",
       "pizza_type_id                                                     \n",
       "mediterraneo   Spinach, Artichokes, Kalamata Olives, Sun-drie...  \n",
       "mexicana       Tomatoes, Red Peppers, Jalapeno Peppers, Red O...  \n",
       "spin_pesto     Spinach, Artichokes, Tomatoes, Sun-dried Tomat...  \n",
       "spinach_fet    Spinach, Mushrooms, Red Onions, Feta Cheese, G...  \n",
       "veggie_veg     Mushrooms, Tomatoes, Red Peppers, Green Pepper...  "
      ]
     },
     "execution_count": 6,
     "metadata": {},
     "output_type": "execute_result"
    }
   ],
   "source": [
    "pizza_types = pd.read_csv(\n",
    "    'pizza_types.csv',\n",
    "    encoding='latin', index_col = 'pizza_type_id'\n",
    ")\n",
    "pizza_types.tail()"
   ]
  },
  {
   "attachments": {},
   "cell_type": "markdown",
   "id": "ce758720-d2d5-43a1-a76a-78dbb59e5513",
   "metadata": {
    "tags": []
   },
   "source": [
    "# Exploratory Data Analysis (EDA)"
   ]
  },
  {
   "attachments": {},
   "cell_type": "markdown",
   "id": "30b52c06-3a0b-4589-92aa-a27dee396829",
   "metadata": {
    "jp-MarkdownHeadingCollapsed": true,
    "tags": []
   },
   "source": [
    "## The orders DataFrame"
   ]
  },
  {
   "attachments": {},
   "cell_type": "markdown",
   "id": "b7960fa3-f836-4c9d-8c31-ab9a66841344",
   "metadata": {},
   "source": [
    "- The orders DataFrame has 21.350 observations.\n",
    "- There is not null values in the DataFrame."
   ]
  },
  {
   "cell_type": "code",
   "execution_count": 7,
   "id": "43a4a58a-eb89-4323-b124-d2270e2edaa3",
   "metadata": {},
   "outputs": [
    {
     "name": "stdout",
     "output_type": "stream",
     "text": [
      "<class 'pandas.core.frame.DataFrame'>\n",
      "Index: 21350 entries, 1 to 21350\n",
      "Data columns (total 1 columns):\n",
      " #   Column     Non-Null Count  Dtype         \n",
      "---  ------     --------------  -----         \n",
      " 0   date_time  21350 non-null  datetime64[ns]\n",
      "dtypes: datetime64[ns](1)\n",
      "memory usage: 333.6 KB\n"
     ]
    }
   ],
   "source": [
    "orders.info()"
   ]
  },
  {
   "attachments": {},
   "cell_type": "markdown",
   "id": "c804f91f-4b4d-4ed5-9a73-810d2de60094",
   "metadata": {},
   "source": [
    "- There is not duplicates values in the DataFrame."
   ]
  },
  {
   "cell_type": "code",
   "execution_count": 8,
   "id": "a59155f4-27f7-4e8c-9139-9a8f41a151e3",
   "metadata": {},
   "outputs": [
    {
     "data": {
      "text/plain": [
       "0"
      ]
     },
     "execution_count": 8,
     "metadata": {},
     "output_type": "execute_result"
    }
   ],
   "source": [
    "orders.duplicated().sum()"
   ]
  },
  {
   "attachments": {},
   "cell_type": "markdown",
   "id": "a1b2ccb2-f12b-4f18-a46b-8aff70f31f84",
   "metadata": {},
   "source": [
    "- The \"month\", \"day\", \"hour\" and \"week\" columns were added to the DataFrame."
   ]
  },
  {
   "cell_type": "code",
   "execution_count": 9,
   "id": "98f3dd9b-5189-49eb-aa70-a38040981778",
   "metadata": {},
   "outputs": [
    {
     "data": {
      "text/html": [
       "<div>\n",
       "<style scoped>\n",
       "    .dataframe tbody tr th:only-of-type {\n",
       "        vertical-align: middle;\n",
       "    }\n",
       "\n",
       "    .dataframe tbody tr th {\n",
       "        vertical-align: top;\n",
       "    }\n",
       "\n",
       "    .dataframe thead th {\n",
       "        text-align: right;\n",
       "    }\n",
       "</style>\n",
       "<table border=\"1\" class=\"dataframe\">\n",
       "  <thead>\n",
       "    <tr style=\"text-align: right;\">\n",
       "      <th></th>\n",
       "      <th>date_time</th>\n",
       "      <th>month</th>\n",
       "      <th>day</th>\n",
       "      <th>hour</th>\n",
       "      <th>week</th>\n",
       "    </tr>\n",
       "    <tr>\n",
       "      <th>order_id</th>\n",
       "      <th></th>\n",
       "      <th></th>\n",
       "      <th></th>\n",
       "      <th></th>\n",
       "      <th></th>\n",
       "    </tr>\n",
       "  </thead>\n",
       "  <tbody>\n",
       "    <tr>\n",
       "      <th>1</th>\n",
       "      <td>2015-01-01 11:38:36</td>\n",
       "      <td>January</td>\n",
       "      <td>Thursday</td>\n",
       "      <td>11</td>\n",
       "      <td>1</td>\n",
       "    </tr>\n",
       "    <tr>\n",
       "      <th>2</th>\n",
       "      <td>2015-01-01 11:57:40</td>\n",
       "      <td>January</td>\n",
       "      <td>Thursday</td>\n",
       "      <td>11</td>\n",
       "      <td>1</td>\n",
       "    </tr>\n",
       "    <tr>\n",
       "      <th>3</th>\n",
       "      <td>2015-01-01 12:12:28</td>\n",
       "      <td>January</td>\n",
       "      <td>Thursday</td>\n",
       "      <td>12</td>\n",
       "      <td>1</td>\n",
       "    </tr>\n",
       "    <tr>\n",
       "      <th>4</th>\n",
       "      <td>2015-01-01 12:16:31</td>\n",
       "      <td>January</td>\n",
       "      <td>Thursday</td>\n",
       "      <td>12</td>\n",
       "      <td>1</td>\n",
       "    </tr>\n",
       "    <tr>\n",
       "      <th>5</th>\n",
       "      <td>2015-01-01 12:21:30</td>\n",
       "      <td>January</td>\n",
       "      <td>Thursday</td>\n",
       "      <td>12</td>\n",
       "      <td>1</td>\n",
       "    </tr>\n",
       "  </tbody>\n",
       "</table>\n",
       "</div>"
      ],
      "text/plain": [
       "                   date_time    month       day  hour  week\n",
       "order_id                                                   \n",
       "1        2015-01-01 11:38:36  January  Thursday    11     1\n",
       "2        2015-01-01 11:57:40  January  Thursday    11     1\n",
       "3        2015-01-01 12:12:28  January  Thursday    12     1\n",
       "4        2015-01-01 12:16:31  January  Thursday    12     1\n",
       "5        2015-01-01 12:21:30  January  Thursday    12     1"
      ]
     },
     "execution_count": 9,
     "metadata": {},
     "output_type": "execute_result"
    }
   ],
   "source": [
    "orders['month'] = orders['date_time'].dt.month_name()\n",
    "orders['day'] = orders['date_time'].dt.day_name()\n",
    "orders['hour'] = orders['date_time'].dt.hour\n",
    "orders['week'] = orders['date_time'].dt.isocalendar().week\n",
    "orders.head()"
   ]
  },
  {
   "attachments": {},
   "cell_type": "markdown",
   "id": "6f48784d-8183-4e14-b4ca-b58686236f35",
   "metadata": {},
   "source": [
    "- The orders DataFrame has a memory usage of 3.2 MB."
   ]
  },
  {
   "cell_type": "code",
   "execution_count": 10,
   "id": "7759be22-6e85-43e0-8b30-2b62b6c55330",
   "metadata": {},
   "outputs": [
    {
     "name": "stdout",
     "output_type": "stream",
     "text": [
      "<class 'pandas.core.frame.DataFrame'>\n",
      "Index: 21350 entries, 1 to 21350\n",
      "Data columns (total 5 columns):\n",
      " #   Column     Non-Null Count  Dtype         \n",
      "---  ------     --------------  -----         \n",
      " 0   date_time  21350 non-null  datetime64[ns]\n",
      " 1   month      21350 non-null  object        \n",
      " 2   day        21350 non-null  object        \n",
      " 3   hour       21350 non-null  int32         \n",
      " 4   week       21350 non-null  UInt32        \n",
      "dtypes: UInt32(1), datetime64[ns](1), int32(1), object(2)\n",
      "memory usage: 3.1 MB\n"
     ]
    }
   ],
   "source": [
    "orders.info(memory_usage = 'deep')"
   ]
  },
  {
   "attachments": {},
   "cell_type": "markdown",
   "id": "5335adf9-e87f-41c2-94de-13593f3f69c2",
   "metadata": {},
   "source": [
    "- The **\"month\"** and **\"day\"**columns have a memory usage of **2.72 MB** approximately."
   ]
  },
  {
   "cell_type": "code",
   "execution_count": 11,
   "id": "65905258-bce8-4ffe-b2ec-1c9231010e6d",
   "metadata": {},
   "outputs": [
    {
     "data": {
      "text/plain": [
       "Index         170800\n",
       "date_time     170800\n",
       "month        1347224\n",
       "day          1369889\n",
       "hour           85400\n",
       "week          106750\n",
       "dtype: int64"
      ]
     },
     "execution_count": 11,
     "metadata": {},
     "output_type": "execute_result"
    }
   ],
   "source": [
    "orders.memory_usage(deep = True)"
   ]
  },
  {
   "attachments": {},
   "cell_type": "markdown",
   "id": "8b80f5dd-a502-4f1d-aee5-d373111e1efc",
   "metadata": {},
   "source": [
    "- The \"month\" and \"day\" columns have few unique values. \n",
    "    - These columns are good candidates to be converted to a categorical data type."
   ]
  },
  {
   "cell_type": "code",
   "execution_count": 12,
   "id": "157bb64c-c238-455a-a84a-b56e90f61061",
   "metadata": {},
   "outputs": [
    {
     "data": {
      "text/plain": [
       "date_time    21350\n",
       "month           12\n",
       "day              7\n",
       "hour            15\n",
       "week            53\n",
       "dtype: int64"
      ]
     },
     "execution_count": 12,
     "metadata": {},
     "output_type": "execute_result"
    }
   ],
   "source": [
    "orders.nunique()"
   ]
  },
  {
   "attachments": {},
   "cell_type": "markdown",
   "id": "96355b63-88bf-4b69-afcf-091d5997b373",
   "metadata": {},
   "source": [
    "- The **month** and **day** columns were converted to a categorical data type.\n",
    "    - These columns now can be sorted properly."
   ]
  },
  {
   "cell_type": "code",
   "execution_count": 13,
   "id": "85404dea-1dab-4e54-b1cd-75343e54b450",
   "metadata": {},
   "outputs": [],
   "source": [
    "orders['month'] = pd.Categorical(\n",
    "    values = orders['month'], \n",
    "    categories = ['January', 'February', 'March', 'April', 'May', 'June', 'July', 'August', 'September', 'October', 'November', 'December'],\n",
    "    ordered = True\n",
    ")"
   ]
  },
  {
   "cell_type": "code",
   "execution_count": 14,
   "id": "83366dda-6e94-4951-b68f-d07257dc211e",
   "metadata": {},
   "outputs": [],
   "source": [
    "orders['day'] = pd.Categorical(\n",
    "    values = orders['day'],\n",
    "    categories = ['Monday', 'Tuesday', 'Wednesday', 'Thursday', 'Friday', 'Saturday', 'Sunday'],\n",
    "    ordered = True\n",
    ")"
   ]
  },
  {
   "attachments": {},
   "cell_type": "markdown",
   "id": "1d8fe994-7f62-46a9-8c6e-28eec0b1e63e",
   "metadata": {},
   "source": [
    "- The memory usage in the orders DataFrame was optimized (648.1 KB)."
   ]
  },
  {
   "cell_type": "code",
   "execution_count": 15,
   "id": "3369b2f7-9a55-4d9e-983d-c3b1c639e4de",
   "metadata": {},
   "outputs": [
    {
     "name": "stdout",
     "output_type": "stream",
     "text": [
      "<class 'pandas.core.frame.DataFrame'>\n",
      "Index: 21350 entries, 1 to 21350\n",
      "Data columns (total 5 columns):\n",
      " #   Column     Non-Null Count  Dtype         \n",
      "---  ------     --------------  -----         \n",
      " 0   date_time  21350 non-null  datetime64[ns]\n",
      " 1   month      21350 non-null  category      \n",
      " 2   day        21350 non-null  category      \n",
      " 3   hour       21350 non-null  int32         \n",
      " 4   week       21350 non-null  UInt32        \n",
      "dtypes: UInt32(1), category(2), datetime64[ns](1), int32(1)\n",
      "memory usage: 564.7 KB\n"
     ]
    }
   ],
   "source": [
    "orders.info(memory_usage = 'deep')"
   ]
  },
  {
   "attachments": {},
   "cell_type": "markdown",
   "id": "4f87a9b8-676b-4264-b166-8f95b51296db",
   "metadata": {
    "jp-MarkdownHeadingCollapsed": true,
    "tags": []
   },
   "source": [
    "## The order_details DataFrame"
   ]
  },
  {
   "attachments": {},
   "cell_type": "markdown",
   "id": "263a661f-7efa-4581-8d07-21a1b8ce56d3",
   "metadata": {},
   "source": [
    "- The order_details DataFrame has 48.620 observations.\n",
    "- There is not null values in the DataFrame."
   ]
  },
  {
   "cell_type": "code",
   "execution_count": 16,
   "id": "593b0aea-b6ed-471d-978e-234e5d26c6ca",
   "metadata": {},
   "outputs": [
    {
     "name": "stdout",
     "output_type": "stream",
     "text": [
      "<class 'pandas.core.frame.DataFrame'>\n",
      "Index: 48620 entries, 1 to 48620\n",
      "Data columns (total 3 columns):\n",
      " #   Column    Non-Null Count  Dtype \n",
      "---  ------    --------------  ----- \n",
      " 0   order_id  48620 non-null  int64 \n",
      " 1   pizza_id  48620 non-null  object\n",
      " 2   quantity  48620 non-null  int64 \n",
      "dtypes: int64(2), object(1)\n",
      "memory usage: 1.5+ MB\n"
     ]
    }
   ],
   "source": [
    "order_details.info()"
   ]
  },
  {
   "attachments": {},
   "cell_type": "markdown",
   "id": "9d211668-0622-40b1-a8a4-d5f398ef52c2",
   "metadata": {},
   "source": [
    "- There is not duplicates values in the DataFrame."
   ]
  },
  {
   "cell_type": "code",
   "execution_count": 17,
   "id": "cf7f155c-cc97-44d9-9683-3f612b0510c5",
   "metadata": {},
   "outputs": [
    {
     "data": {
      "text/plain": [
       "0"
      ]
     },
     "execution_count": 17,
     "metadata": {},
     "output_type": "execute_result"
    }
   ],
   "source": [
    "order_details.duplicated().sum()"
   ]
  },
  {
   "attachments": {},
   "cell_type": "markdown",
   "id": "8bf677b1-753f-40c8-8a42-2c01ba1e518e",
   "metadata": {
    "jp-MarkdownHeadingCollapsed": true,
    "tags": []
   },
   "source": [
    "## The pizzas DataFrame"
   ]
  },
  {
   "attachments": {},
   "cell_type": "markdown",
   "id": "c360dfa1-985c-47a8-8501-5161536ad2bd",
   "metadata": {},
   "source": [
    "- The pizzas DataFrame has 96 observations.\n",
    "- There is no null values in the DataFrame."
   ]
  },
  {
   "cell_type": "code",
   "execution_count": 18,
   "id": "b380e705-5715-4063-b1fe-a7f4e474333f",
   "metadata": {},
   "outputs": [
    {
     "name": "stdout",
     "output_type": "stream",
     "text": [
      "<class 'pandas.core.frame.DataFrame'>\n",
      "Index: 96 entries, bbq_ckn_s to veggie_veg_l\n",
      "Data columns (total 3 columns):\n",
      " #   Column         Non-Null Count  Dtype  \n",
      "---  ------         --------------  -----  \n",
      " 0   pizza_type_id  96 non-null     object \n",
      " 1   size           96 non-null     object \n",
      " 2   price          96 non-null     float64\n",
      "dtypes: float64(1), object(2)\n",
      "memory usage: 3.0+ KB\n"
     ]
    }
   ],
   "source": [
    "pizzas.info()"
   ]
  },
  {
   "attachments": {},
   "cell_type": "markdown",
   "id": "9cf795ce-f68a-41a8-8a65-abafb59646b8",
   "metadata": {},
   "source": [
    "- There is not duplicates values in the DataFrame."
   ]
  },
  {
   "cell_type": "code",
   "execution_count": 19,
   "id": "e2fc4b2d-f478-42c6-beee-38fa3594ce52",
   "metadata": {},
   "outputs": [
    {
     "data": {
      "text/plain": [
       "0"
      ]
     },
     "execution_count": 19,
     "metadata": {},
     "output_type": "execute_result"
    }
   ],
   "source": [
    "pizzas.duplicated().sum()"
   ]
  },
  {
   "attachments": {},
   "cell_type": "markdown",
   "id": "36f1ed45-bb65-450f-9369-2818a9356605",
   "metadata": {},
   "source": [
    "- The \"size\" column is a good candidate to be converted to a categical data type."
   ]
  },
  {
   "cell_type": "code",
   "execution_count": 20,
   "id": "2aacda96-5bb5-44ba-b822-fccc37bec46a",
   "metadata": {},
   "outputs": [
    {
     "data": {
      "text/plain": [
       "pizza_type_id    32\n",
       "size              5\n",
       "price            27\n",
       "dtype: int64"
      ]
     },
     "execution_count": 20,
     "metadata": {},
     "output_type": "execute_result"
    }
   ],
   "source": [
    "pizzas.nunique()"
   ]
  },
  {
   "attachments": {},
   "cell_type": "markdown",
   "id": "820fb7ff-9c6f-4797-b623-7e6b2213f858",
   "metadata": {},
   "source": [
    "- The \"size\" column can be sorted properly."
   ]
  },
  {
   "cell_type": "code",
   "execution_count": 21,
   "id": "1cba233a-1aa0-4068-a291-e98506d358a2",
   "metadata": {},
   "outputs": [
    {
     "data": {
      "text/plain": [
       "array(['S', 'M', 'L', 'XL', 'XXL'], dtype=object)"
      ]
     },
     "execution_count": 21,
     "metadata": {},
     "output_type": "execute_result"
    }
   ],
   "source": [
    "pizzas['size'].unique()"
   ]
  },
  {
   "cell_type": "code",
   "execution_count": 22,
   "id": "d6a4089d-b3dd-488b-8761-4b3dd54d91d1",
   "metadata": {},
   "outputs": [],
   "source": [
    "pizzas['size'] = pd.Categorical(\n",
    "    values = pizzas['size'],\n",
    "    categories = ['S', 'M', 'L', 'XL', 'XXL'],\n",
    "    ordered = True\n",
    ")"
   ]
  },
  {
   "attachments": {},
   "cell_type": "markdown",
   "id": "b5452e27-aa85-4488-ba43-35c9a83ec153",
   "metadata": {
    "jp-MarkdownHeadingCollapsed": true,
    "tags": []
   },
   "source": [
    "## The pizza_types DataFrame"
   ]
  },
  {
   "attachments": {},
   "cell_type": "markdown",
   "id": "35a3f178-c48d-4bfe-9912-9fd562268eaf",
   "metadata": {},
   "source": [
    "- The pizza_types DataFrame has 32 observations.\n",
    "- The is not null values in the DataFrame."
   ]
  },
  {
   "cell_type": "code",
   "execution_count": 23,
   "id": "72bcfc99-6d41-43db-a76b-1acb6a27c2bb",
   "metadata": {},
   "outputs": [
    {
     "name": "stdout",
     "output_type": "stream",
     "text": [
      "<class 'pandas.core.frame.DataFrame'>\n",
      "Index: 32 entries, bbq_ckn to veggie_veg\n",
      "Data columns (total 3 columns):\n",
      " #   Column       Non-Null Count  Dtype \n",
      "---  ------       --------------  ----- \n",
      " 0   name         32 non-null     object\n",
      " 1   category     32 non-null     object\n",
      " 2   ingredients  32 non-null     object\n",
      "dtypes: object(3)\n",
      "memory usage: 1.0+ KB\n"
     ]
    }
   ],
   "source": [
    "pizza_types.info()"
   ]
  },
  {
   "attachments": {},
   "cell_type": "markdown",
   "id": "b3cfcdf6-8b38-4c84-9105-296d6de85d85",
   "metadata": {},
   "source": [
    "- The is not duplicates values in the DataFrame."
   ]
  },
  {
   "cell_type": "code",
   "execution_count": 24,
   "id": "d7ff7f1c-94d6-436f-95c5-635ab3fd081f",
   "metadata": {},
   "outputs": [
    {
     "data": {
      "text/plain": [
       "0"
      ]
     },
     "execution_count": 24,
     "metadata": {},
     "output_type": "execute_result"
    }
   ],
   "source": [
    "pizza_types.duplicated().sum()"
   ]
  },
  {
   "attachments": {},
   "cell_type": "markdown",
   "id": "eff486bd-0173-4213-82af-772d342f76ee",
   "metadata": {},
   "source": [
    "- The \"name\" and \"category\" columns are good candidates to be converted to a categorical data type. "
   ]
  },
  {
   "cell_type": "code",
   "execution_count": 25,
   "id": "bc5850af-be37-4de6-bee6-202a836c301a",
   "metadata": {},
   "outputs": [
    {
     "data": {
      "text/plain": [
       "name           32\n",
       "category        4\n",
       "ingredients    32\n",
       "dtype: int64"
      ]
     },
     "execution_count": 25,
     "metadata": {},
     "output_type": "execute_result"
    }
   ],
   "source": [
    "pizza_types.nunique()"
   ]
  },
  {
   "attachments": {},
   "cell_type": "markdown",
   "id": "dfd6f636-e51b-4cdf-8dcc-6fac7d7ed0a6",
   "metadata": {},
   "source": [
    "- The \"name\" and \"category\" columns were converted to a categorical data type.\n",
    "    - These columns have nominal data, this is why are not ordered in a hierarchy."
   ]
  },
  {
   "cell_type": "code",
   "execution_count": 26,
   "id": "4c65370f-400a-4df6-9377-7f3dcb8553e6",
   "metadata": {},
   "outputs": [],
   "source": [
    "pizza_types['category'] = pd.Categorical(\n",
    "    values = pizza_types['category']\n",
    ")"
   ]
  },
  {
   "cell_type": "code",
   "execution_count": 27,
   "id": "4db60d89-bebb-447b-abec-7f14aef82f06",
   "metadata": {},
   "outputs": [],
   "source": [
    "pizza_types['name'] = pd.Categorical(\n",
    "    values = pizza_types['name']\n",
    ")"
   ]
  },
  {
   "attachments": {},
   "cell_type": "markdown",
   "id": "f88c66bf-8f70-4f52-a993-2d96da60ab14",
   "metadata": {},
   "source": [
    "- The 'Pizza' string was chop off from the values in the \"name\" column."
   ]
  },
  {
   "cell_type": "code",
   "execution_count": 28,
   "id": "391eb96d-6dce-4c5c-b1fb-ce9984399a24",
   "metadata": {},
   "outputs": [
    {
     "data": {
      "text/plain": [
       "['The Barbecue Chicken Pizza', 'The California Chicken Pizza', 'The Chicken Alfredo Pizza', 'The Chicken Pesto Pizza', 'The Southwest Chicken Pizza', ..., 'The Mediterranean Pizza', 'The Mexicana Pizza', 'The Spinach Pesto Pizza', 'The Spinach and Feta Pizza', 'The Vegetables + Vegetables Pizza']\n",
       "Length: 32\n",
       "Categories (32, object): ['The Barbecue Chicken Pizza', 'The Big Meat Pizza', 'The Brie Carre Pizza', 'The Calabrese Pizza', ..., 'The Spinach Supreme Pizza', 'The Spinach and Feta Pizza', 'The Thai Chicken Pizza', 'The Vegetables + Vegetables Pizza']"
      ]
     },
     "execution_count": 28,
     "metadata": {},
     "output_type": "execute_result"
    }
   ],
   "source": [
    "pizza_types['name'].unique()"
   ]
  },
  {
   "cell_type": "code",
   "execution_count": 29,
   "id": "36657b17-6509-4179-ac86-454057a3a5b1",
   "metadata": {},
   "outputs": [],
   "source": [
    "pizza_types['name'] = pizza_types['name'].str.replace(pat = 'Pizza', repl = '')"
   ]
  },
  {
   "cell_type": "code",
   "execution_count": 30,
   "id": "b95d19bf-76c9-4e2f-9899-fe0c0985b117",
   "metadata": {},
   "outputs": [
    {
     "data": {
      "text/plain": [
       "array(['The Barbecue Chicken ', 'The California Chicken ',\n",
       "       'The Chicken Alfredo ', 'The Chicken Pesto ',\n",
       "       'The Southwest Chicken ', 'The Thai Chicken ', 'The Big Meat ',\n",
       "       'The Classic Deluxe ', 'The Hawaiian ', 'The Italian Capocollo ',\n",
       "       'The Napolitana ', 'The Pepperoni, Mushroom, and Peppers ',\n",
       "       'The Pepperoni ', 'The Greek ', 'The Brie Carre ',\n",
       "       'The Calabrese ', 'The Italian Supreme ', 'The Pepper Salami ',\n",
       "       'The Prosciutto and Arugula ', 'The Sicilian ', 'The Soppressata ',\n",
       "       'The Spicy Italian ', 'The Spinach Supreme ', 'The Five Cheese ',\n",
       "       'The Four Cheese ', 'The Green Garden ', 'The Italian Vegetables ',\n",
       "       'The Mediterranean ', 'The Mexicana ', 'The Spinach Pesto ',\n",
       "       'The Spinach and Feta ', 'The Vegetables + Vegetables '],\n",
       "      dtype=object)"
      ]
     },
     "execution_count": 30,
     "metadata": {},
     "output_type": "execute_result"
    }
   ],
   "source": [
    "pizza_types['name'].unique()"
   ]
  },
  {
   "attachments": {},
   "cell_type": "markdown",
   "id": "2be73ea2-4017-4263-8063-0431b8f98cd5",
   "metadata": {
    "tags": []
   },
   "source": [
    "## The maven_pizza DataFrame"
   ]
  },
  {
   "attachments": {},
   "cell_type": "markdown",
   "id": "8e7bfe2f-48f4-4835-ba7a-dabc1cc227cb",
   "metadata": {},
   "source": [
    "- The maven_pizza DataFrame is a big DataFrame that contains all the information from the 4 DataFrames analyzed above."
   ]
  },
  {
   "cell_type": "code",
   "execution_count": 31,
   "id": "1a94f1fc-e020-497f-89b0-2c25ad12ad17",
   "metadata": {},
   "outputs": [],
   "source": [
    "maven_pizza = order_details.merge(right = orders, how = 'inner', on = 'order_id')\n",
    "maven_pizza = maven_pizza.merge(right = pizzas, how = 'left', on = 'pizza_id')\n",
    "maven_pizza = maven_pizza.merge(right = pizza_types, how = 'left', on = 'pizza_type_id')"
   ]
  },
  {
   "cell_type": "code",
   "execution_count": 32,
   "id": "d190f6c4-6b00-43e9-b459-33a8df0d31c1",
   "metadata": {},
   "outputs": [],
   "source": [
    "maven_pizza.index.names = ['maven_id']"
   ]
  },
  {
   "attachments": {},
   "cell_type": "markdown",
   "id": "8440f864-8608-418b-94ce-2a3673489ade",
   "metadata": {},
   "source": [
    "- To find the revenue from sales, the \"revenue\" column is added to the maven_pizza DataFrame by multiplying the \"quantity\" column by the \"price\" column."
   ]
  },
  {
   "cell_type": "code",
   "execution_count": 33,
   "id": "d465caf3-cfe9-4d58-9a2a-e17b563c733d",
   "metadata": {},
   "outputs": [],
   "source": [
    "maven_pizza['revenue'] = maven_pizza['quantity'] * maven_pizza['price']"
   ]
  },
  {
   "cell_type": "code",
   "execution_count": 34,
   "id": "1b86b1de-5c12-4ac5-883f-78ac78ac0e18",
   "metadata": {},
   "outputs": [
    {
     "data": {
      "text/html": [
       "<div>\n",
       "<style scoped>\n",
       "    .dataframe tbody tr th:only-of-type {\n",
       "        vertical-align: middle;\n",
       "    }\n",
       "\n",
       "    .dataframe tbody tr th {\n",
       "        vertical-align: top;\n",
       "    }\n",
       "\n",
       "    .dataframe thead th {\n",
       "        text-align: right;\n",
       "    }\n",
       "</style>\n",
       "<table border=\"1\" class=\"dataframe\">\n",
       "  <thead>\n",
       "    <tr style=\"text-align: right;\">\n",
       "      <th></th>\n",
       "      <th>order_id</th>\n",
       "      <th>pizza_id</th>\n",
       "      <th>quantity</th>\n",
       "      <th>date_time</th>\n",
       "      <th>month</th>\n",
       "      <th>day</th>\n",
       "      <th>hour</th>\n",
       "      <th>week</th>\n",
       "      <th>pizza_type_id</th>\n",
       "      <th>size</th>\n",
       "      <th>price</th>\n",
       "      <th>name</th>\n",
       "      <th>category</th>\n",
       "      <th>ingredients</th>\n",
       "      <th>revenue</th>\n",
       "    </tr>\n",
       "    <tr>\n",
       "      <th>maven_id</th>\n",
       "      <th></th>\n",
       "      <th></th>\n",
       "      <th></th>\n",
       "      <th></th>\n",
       "      <th></th>\n",
       "      <th></th>\n",
       "      <th></th>\n",
       "      <th></th>\n",
       "      <th></th>\n",
       "      <th></th>\n",
       "      <th></th>\n",
       "      <th></th>\n",
       "      <th></th>\n",
       "      <th></th>\n",
       "      <th></th>\n",
       "    </tr>\n",
       "  </thead>\n",
       "  <tbody>\n",
       "    <tr>\n",
       "      <th>48615</th>\n",
       "      <td>21348</td>\n",
       "      <td>ckn_alfredo_m</td>\n",
       "      <td>1</td>\n",
       "      <td>2015-12-31 21:23:10</td>\n",
       "      <td>December</td>\n",
       "      <td>Thursday</td>\n",
       "      <td>21</td>\n",
       "      <td>53</td>\n",
       "      <td>ckn_alfredo</td>\n",
       "      <td>M</td>\n",
       "      <td>16.75</td>\n",
       "      <td>The Chicken Alfredo</td>\n",
       "      <td>Chicken</td>\n",
       "      <td>Chicken, Red Onions, Red Peppers, Mushrooms, A...</td>\n",
       "      <td>16.75</td>\n",
       "    </tr>\n",
       "    <tr>\n",
       "      <th>48616</th>\n",
       "      <td>21348</td>\n",
       "      <td>four_cheese_l</td>\n",
       "      <td>1</td>\n",
       "      <td>2015-12-31 21:23:10</td>\n",
       "      <td>December</td>\n",
       "      <td>Thursday</td>\n",
       "      <td>21</td>\n",
       "      <td>53</td>\n",
       "      <td>four_cheese</td>\n",
       "      <td>L</td>\n",
       "      <td>17.95</td>\n",
       "      <td>The Four Cheese</td>\n",
       "      <td>Veggie</td>\n",
       "      <td>Ricotta Cheese, Gorgonzola Piccante Cheese, Mo...</td>\n",
       "      <td>17.95</td>\n",
       "    </tr>\n",
       "    <tr>\n",
       "      <th>48617</th>\n",
       "      <td>21348</td>\n",
       "      <td>napolitana_s</td>\n",
       "      <td>1</td>\n",
       "      <td>2015-12-31 21:23:10</td>\n",
       "      <td>December</td>\n",
       "      <td>Thursday</td>\n",
       "      <td>21</td>\n",
       "      <td>53</td>\n",
       "      <td>napolitana</td>\n",
       "      <td>S</td>\n",
       "      <td>12.00</td>\n",
       "      <td>The Napolitana</td>\n",
       "      <td>Classic</td>\n",
       "      <td>Tomatoes, Anchovies, Green Olives, Red Onions,...</td>\n",
       "      <td>12.00</td>\n",
       "    </tr>\n",
       "    <tr>\n",
       "      <th>48618</th>\n",
       "      <td>21349</td>\n",
       "      <td>mexicana_l</td>\n",
       "      <td>1</td>\n",
       "      <td>2015-12-31 22:09:54</td>\n",
       "      <td>December</td>\n",
       "      <td>Thursday</td>\n",
       "      <td>22</td>\n",
       "      <td>53</td>\n",
       "      <td>mexicana</td>\n",
       "      <td>L</td>\n",
       "      <td>20.25</td>\n",
       "      <td>The Mexicana</td>\n",
       "      <td>Veggie</td>\n",
       "      <td>Tomatoes, Red Peppers, Jalapeno Peppers, Red O...</td>\n",
       "      <td>20.25</td>\n",
       "    </tr>\n",
       "    <tr>\n",
       "      <th>48619</th>\n",
       "      <td>21350</td>\n",
       "      <td>bbq_ckn_s</td>\n",
       "      <td>1</td>\n",
       "      <td>2015-12-31 23:02:05</td>\n",
       "      <td>December</td>\n",
       "      <td>Thursday</td>\n",
       "      <td>23</td>\n",
       "      <td>53</td>\n",
       "      <td>bbq_ckn</td>\n",
       "      <td>S</td>\n",
       "      <td>12.75</td>\n",
       "      <td>The Barbecue Chicken</td>\n",
       "      <td>Chicken</td>\n",
       "      <td>Barbecued Chicken, Red Peppers, Green Peppers,...</td>\n",
       "      <td>12.75</td>\n",
       "    </tr>\n",
       "  </tbody>\n",
       "</table>\n",
       "</div>"
      ],
      "text/plain": [
       "          order_id       pizza_id  quantity           date_time     month   \n",
       "maven_id                                                                    \n",
       "48615        21348  ckn_alfredo_m         1 2015-12-31 21:23:10  December  \\\n",
       "48616        21348  four_cheese_l         1 2015-12-31 21:23:10  December   \n",
       "48617        21348   napolitana_s         1 2015-12-31 21:23:10  December   \n",
       "48618        21349     mexicana_l         1 2015-12-31 22:09:54  December   \n",
       "48619        21350      bbq_ckn_s         1 2015-12-31 23:02:05  December   \n",
       "\n",
       "               day  hour  week pizza_type_id size  price   \n",
       "maven_id                                                   \n",
       "48615     Thursday    21    53   ckn_alfredo    M  16.75  \\\n",
       "48616     Thursday    21    53   four_cheese    L  17.95   \n",
       "48617     Thursday    21    53    napolitana    S  12.00   \n",
       "48618     Thursday    22    53      mexicana    L  20.25   \n",
       "48619     Thursday    23    53       bbq_ckn    S  12.75   \n",
       "\n",
       "                           name category   \n",
       "maven_id                                   \n",
       "48615      The Chicken Alfredo   Chicken  \\\n",
       "48616          The Four Cheese    Veggie   \n",
       "48617           The Napolitana   Classic   \n",
       "48618             The Mexicana    Veggie   \n",
       "48619     The Barbecue Chicken   Chicken   \n",
       "\n",
       "                                                ingredients  revenue  \n",
       "maven_id                                                              \n",
       "48615     Chicken, Red Onions, Red Peppers, Mushrooms, A...    16.75  \n",
       "48616     Ricotta Cheese, Gorgonzola Piccante Cheese, Mo...    17.95  \n",
       "48617     Tomatoes, Anchovies, Green Olives, Red Onions,...    12.00  \n",
       "48618     Tomatoes, Red Peppers, Jalapeno Peppers, Red O...    20.25  \n",
       "48619     Barbecued Chicken, Red Peppers, Green Peppers,...    12.75  "
      ]
     },
     "execution_count": 34,
     "metadata": {},
     "output_type": "execute_result"
    }
   ],
   "source": [
    "maven_pizza.tail()"
   ]
  },
  {
   "attachments": {},
   "cell_type": "markdown",
   "id": "61815da2-0314-4876-9d25-487298da7b3e",
   "metadata": {},
   "source": [
    "# Questions to answer"
   ]
  },
  {
   "attachments": {},
   "cell_type": "markdown",
   "id": "4cb36d9f-2b2a-4322-bb8c-5867f72428fd",
   "metadata": {
    "tags": []
   },
   "source": [
    "## 1. What days and times do we tend to be busiest?"
   ]
  },
  {
   "attachments": {},
   "cell_type": "markdown",
   "id": "f52dc26c-5b4d-476a-92ba-55ad8f0a4712",
   "metadata": {},
   "source": [
    "- The picture below shows the number of total pizzas ordered by day of the week:\n",
    "    - **Thursday, Friday and Saturday** are the **busiest days of the week** with 7,478, 8,242 and 7,493 pizzas ordered respectively."
   ]
  },
  {
   "cell_type": "code",
   "execution_count": 35,
   "id": "c84d0ed3-80e3-4faa-92d0-fd528fec8f43",
   "metadata": {},
   "outputs": [],
   "source": [
    "busiest_days = maven_pizza.groupby(by = 'day', as_index = False)['quantity'].sum()"
   ]
  },
  {
   "cell_type": "code",
   "execution_count": 36,
   "id": "1b6c5070-9ddd-46d9-9d0d-834aca3a9e44",
   "metadata": {},
   "outputs": [],
   "source": [
    "color_graph = '#118DFF'"
   ]
  },
  {
   "cell_type": "code",
   "execution_count": 37,
   "id": "21c933d4-8e63-4df7-96f1-d8a3c5005b2d",
   "metadata": {},
   "outputs": [
    {
     "data": {
      "image/png": "[encoded data removed]",
      "text/plain": [
       "<Figure size 750x500 with 1 Axes>"
      ]
     },
     "metadata": {},
     "output_type": "display_data"
    }
   ],
   "source": [
    "g = sns.catplot(data = busiest_days, x = 'quantity', y = 'day', kind = 'bar', color = color_graph, aspect = 1.5)\n",
    "g.set(title = 'Total number of pizzas ordered by day of the week')\n",
    "g.set(xlabel = 'Number of pizzas ordered', ylabel = 'Day of the week')\n",
    "plt.show()"
   ]
  },
  {
   "attachments": {},
   "cell_type": "markdown",
   "id": "865af5de-9a23-4515-ac7a-a678cf53033b",
   "metadata": {},
   "source": [
    "- The picture below shows the total number of pizzas ordered by hour of the day:\n",
    "    - The **busiest hours of the day** is **between 12:00 and 14:00** and **between 17:00 and 19:00**."
   ]
  },
  {
   "cell_type": "code",
   "execution_count": 38,
   "id": "019a55b0-5544-4a73-90e4-f8aa79dfe228",
   "metadata": {},
   "outputs": [],
   "source": [
    "busiest_hours = maven_pizza.groupby('hour', as_index = False)['quantity'].sum()"
   ]
  },
  {
   "cell_type": "code",
   "execution_count": 39,
   "id": "5beb0fc3-ea57-4104-bcf8-e12403bf4282",
   "metadata": {},
   "outputs": [
    {
     "data": {
      "image/png": "[encoded data removed]",
      "text/plain": [
       "<Figure size 750x500 with 1 Axes>"
      ]
     },
     "metadata": {},
     "output_type": "display_data"
    }
   ],
   "source": [
    "g = sns.catplot(data = busiest_hours, x = 'hour', y = 'quantity', kind = 'bar', color = color_graph, aspect = 1.5)\n",
    "g.set(title = 'Total number of pizzas ordered by hour of the day')\n",
    "g.set(xlabel = 'Hour of the day', ylabel = 'Number of pizzas ordered')\n",
    "plt.show()"
   ]
  },
  {
   "attachments": {},
   "cell_type": "markdown",
   "id": "2dbeef31-d58a-4fea-a97b-ff521b6e3676",
   "metadata": {
    "tags": []
   },
   "source": [
    "## 2. How many pizzas are we making during peak periods?"
   ]
  },
  {
   "attachments": {},
   "cell_type": "markdown",
   "id": "f4d14b7d-f9fc-41cd-8093-cf417ea58183",
   "metadata": {},
   "source": [
    "- Plato's Pizza made 13,189 pizzas in total during peak periods."
   ]
  },
  {
   "cell_type": "code",
   "execution_count": 40,
   "id": "6ae1fdb1-73b1-48da-93c4-876f13950edd",
   "metadata": {},
   "outputs": [
    {
     "data": {
      "text/plain": [
       "13189"
      ]
     },
     "execution_count": 40,
     "metadata": {},
     "output_type": "execute_result"
    }
   ],
   "source": [
    "busiest_hours['quantity'].nlargest(n = 2).sum()"
   ]
  },
  {
   "attachments": {},
   "cell_type": "markdown",
   "id": "c61bbe5a-6ba6-4218-821a-caf0de6a8ce3",
   "metadata": {},
   "source": [
    "(missing)"
   ]
  },
  {
   "cell_type": "code",
   "execution_count": 41,
   "id": "991e810c-5c24-4b6d-9b14-7924b1b10414",
   "metadata": {},
   "outputs": [],
   "source": [
    "pizzas_by_week_day_hour = maven_pizza.groupby(['week', 'day', 'hour'], as_index = False)['quantity'].sum()"
   ]
  },
  {
   "cell_type": "code",
   "execution_count": 42,
   "id": "a72af8e5-73f4-4ac1-a1aa-34e6bff2caf0",
   "metadata": {},
   "outputs": [],
   "source": [
    "pizzas_by_week_day = pizzas_by_week_day_hour.groupby(['week', 'day'], as_index = False)['quantity'].sum()"
   ]
  },
  {
   "cell_type": "code",
   "execution_count": 43,
   "id": "afefecf4-e67c-41d3-a4d6-1fa5682d1ec6",
   "metadata": {},
   "outputs": [],
   "source": [
    "avg_pizzas_by_day = pizzas_by_week_day.groupby('day', as_index = False)['quantity'].agg({'median': 'median', 'average': 'mean', 'std': 'std'})"
   ]
  },
  {
   "attachments": {},
   "cell_type": "markdown",
   "id": "eda8a876-962c-4264-ae2c-f934078c4658",
   "metadata": {},
   "source": [
    "(missing)"
   ]
  },
  {
   "cell_type": "code",
   "execution_count": 44,
   "id": "d2cb11ad-55b1-4b93-8fad-a0cb4c8a90b7",
   "metadata": {},
   "outputs": [],
   "source": [
    "peak_hours = maven_pizza['hour'].isin([12, 13, 17, 18])"
   ]
  },
  {
   "cell_type": "code",
   "execution_count": 45,
   "id": "d6779b66-b605-4720-a5a4-e274c8481393",
   "metadata": {},
   "outputs": [],
   "source": [
    "pizzas_by_week_day_hour_peak = maven_pizza[peak_hours].groupby(by = ['week', 'day', 'hour'], as_index = False)['quantity'].sum()"
   ]
  },
  {
   "cell_type": "code",
   "execution_count": 46,
   "id": "015ca749-f756-47c1-8a22-094df662d791",
   "metadata": {},
   "outputs": [],
   "source": [
    "pizzas_by_week_day_peak = pizzas_by_week_day_hour_peak.groupby(by = ['week', 'day'], as_index = False)['quantity'].sum()"
   ]
  },
  {
   "cell_type": "code",
   "execution_count": 47,
   "id": "d0e968b1-6413-4027-90d3-e1c2fba505e1",
   "metadata": {},
   "outputs": [],
   "source": [
    "avg_pizzas_by_day_peak = pizzas_by_week_day_peak.groupby(by = 'day', as_index = False)['quantity'].agg({'median_peak': 'median', 'average_peak': 'mean', 'std_peak': 'std'})"
   ]
  },
  {
   "cell_type": "code",
   "execution_count": 48,
   "id": "0be0d8f4-cff1-4da0-af68-fed085c1f675",
   "metadata": {},
   "outputs": [],
   "source": [
    "avg_pizzas_by_day['median_peak'] = avg_pizzas_by_day_peak['median_peak']\n",
    "avg_pizzas_by_day['average_peak'] = avg_pizzas_by_day_peak['average_peak']\n",
    "avg_pizzas_by_day['std_peak'] = avg_pizzas_by_day_peak['std_peak']"
   ]
  },
  {
   "attachments": {},
   "cell_type": "markdown",
   "id": "a1d529bf-c9a3-453e-bed7-95504e786e9b",
   "metadata": {},
   "source": [
    "- The picture below shows the average of pizzas made by day of the week:\n",
    "    - (missing)"
   ]
  },
  {
   "cell_type": "code",
   "execution_count": 49,
   "id": "4d082c55-6e5c-458a-96d9-b5318a0ee888",
   "metadata": {},
   "outputs": [
    {
     "data": {
      "image/png": "[encoded data removed]",
      "text/plain": [
       "<Figure size 750x500 with 1 Axes>"
      ]
     },
     "metadata": {},
     "output_type": "display_data"
    }
   ],
   "source": [
    "g = sns.catplot(data = avg_pizzas_by_day, x = 'day', y = 'average', kind = 'bar', color = color_graph, aspect = 1.5)\n",
    "# g = sns.barplot(data = avg_pizzas_by_day, x = 'day', y = 'average_peak', color = 'blue')\n",
    "g.set(title = 'Average number of pizzas made by day of the week')\n",
    "g.set(xlabel = 'Day of the week', ylabel = 'Number of pizzas made')\n",
    "plt.show()"
   ]
  },
  {
   "attachments": {},
   "cell_type": "markdown",
   "id": "f356f09f-68da-4d36-8335-f73184915668",
   "metadata": {},
   "source": [
    "- Plato's Pizza makes an **average of 64 pizzas during peak periods in a day of the week** with a standard deviation of 20 pizzas. "
   ]
  },
  {
   "cell_type": "code",
   "execution_count": 50,
   "id": "20ce698c-ad27-4b60-ae71-98bc2d03c75b",
   "metadata": {},
   "outputs": [
    {
     "data": {
      "text/plain": [
       "64"
      ]
     },
     "execution_count": 50,
     "metadata": {},
     "output_type": "execute_result"
    }
   ],
   "source": [
    "math.floor(pizzas_by_week_day_peak['quantity'].mean()) # Value is round down"
   ]
  },
  {
   "cell_type": "code",
   "execution_count": 51,
   "id": "d48d8d81-24e2-49df-b220-a894548ff721",
   "metadata": {},
   "outputs": [
    {
     "data": {
      "text/plain": [
       "20"
      ]
     },
     "execution_count": 51,
     "metadata": {},
     "output_type": "execute_result"
    }
   ],
   "source": [
    "math.floor(pizzas_by_week_day_peak['quantity'].std()) # Value is round down"
   ]
  },
  {
   "attachments": {},
   "cell_type": "markdown",
   "id": "c8b01f01-92a6-4287-a3be-acb93c755509",
   "metadata": {
    "tags": []
   },
   "source": [
    "## 3. What are our best and worst selling pizzas?"
   ]
  },
  {
   "attachments": {},
   "cell_type": "markdown",
   "id": "474ada5d-156e-4541-abaf-bcb0dca865da",
   "metadata": {},
   "source": [
    "- The picture bellows shows the **top 5 best selling pizzas** : \n",
    "    - The Thai Chicken pizza (43,434 us dollars)\n",
    "    - The Barbecue Chicken pizza (42,768 us dollars)\n",
    "    - The California Chicken pizza (41,409 us dollars)\n",
    "    - The Classic Deluxe pizza (38,180 us dollars)\n",
    "    - The Spicy Italian pizza (34,831 us dollars)"
   ]
  },
  {
   "cell_type": "code",
   "execution_count": 52,
   "id": "7af83cc3-c86c-43f6-8ed0-dff2e2148331",
   "metadata": {},
   "outputs": [],
   "source": [
    "revenue_by_name = maven_pizza.groupby(by = 'name', as_index = False)['revenue'].sum().sort_values(by = 'revenue')"
   ]
  },
  {
   "cell_type": "code",
   "execution_count": 53,
   "id": "fd3a6ee7-c6a0-4c2d-a561-545b0c03e6c8",
   "metadata": {},
   "outputs": [],
   "source": [
    "top5_best_selling = revenue_by_name.nlargest(columns = 'revenue', n = 5)"
   ]
  },
  {
   "cell_type": "code",
   "execution_count": 54,
   "id": "1507d9c3-5bb3-4753-85f8-f26294ff9da7",
   "metadata": {},
   "outputs": [
    {
     "data": {
      "image/png": "[encoded data removed]",
      "text/plain": [
       "<Figure size 750x500 with 1 Axes>"
      ]
     },
     "metadata": {},
     "output_type": "display_data"
    }
   ],
   "source": [
    "g = sns.catplot(data = top5_best_selling, x = 'revenue', y = 'name', kind = 'bar', color = color_graph, aspect = 1.5)\n",
    "g.set(title = 'The top 5 best selling pizzas')\n",
    "g.set(xlabel = 'Revenue in $us.', ylabel = 'Name of the pizza')\n",
    "plt.show()"
   ]
  },
  {
   "attachments": {},
   "cell_type": "markdown",
   "id": "57ab3087-3e35-4e47-ab14-74fd2302033e",
   "metadata": {},
   "source": [
    "- The picture bellows shows the **top 5 worst selling pizzas**: \n",
    "    - The Brie Carre pizza (11,589 us dollars)\n",
    "    - The Green Garden pizza (13,956 us dollars)\n",
    "    - The Spinach Supreme pizza (15,278 us dollars)\n",
    "    - The Mediterranean pizza (15,361 us dollars)\n",
    "    - The Spinach Pesto pizza (15,596 us dollars)"
   ]
  },
  {
   "cell_type": "code",
   "execution_count": 55,
   "id": "ef2e4d9a",
   "metadata": {},
   "outputs": [],
   "source": [
    "top5_worst_selling = revenue_by_name.nsmallest(n = 5, columns = 'revenue')"
   ]
  },
  {
   "cell_type": "code",
   "execution_count": 56,
   "id": "6c2608b9",
   "metadata": {},
   "outputs": [
    {
     "data": {
      "image/png": "[encoded data removed]",
      "text/plain": [
       "<Figure size 750x500 with 1 Axes>"
      ]
     },
     "metadata": {},
     "output_type": "display_data"
    }
   ],
   "source": [
    "g = sns.catplot(data = top5_worst_selling, x = 'revenue', y = 'name', kind = 'bar', color = color_graph, aspect = 1.5)\n",
    "g.set(title = 'The top 5 worst selling pizzas')\n",
    "g.set(xlabel = 'Revenue in $us.', ylabel = 'Name of the pizza')\n",
    "plt.show()"
   ]
  },
  {
   "attachments": {},
   "cell_type": "markdown",
   "id": "4ef3a68b-9e4a-4641-a959-8aa3fd1a4798",
   "metadata": {},
   "source": [
    "- The picture below shows the total revenue by size of the pizza:\n",
    "    - The **Large size** is the **best selling size pizza** (375,319 us dollars).\n",
    "    - The **XX Large size** and the **X Large size** are the **worst selling size pizzas** (1,007 and 14,076 us dollars respectively). "
   ]
  },
  {
   "cell_type": "code",
   "execution_count": 57,
   "id": "83e40068-bd77-4525-9090-09cf033d5d59",
   "metadata": {},
   "outputs": [],
   "source": [
    "revenue_by_size =maven_pizza.groupby(by = 'size', as_index = False)['revenue'].sum()"
   ]
  },
  {
   "cell_type": "code",
   "execution_count": 58,
   "id": "1d5c38d9-c427-43b4-8b8d-17b32bc110b8",
   "metadata": {},
   "outputs": [
    {
     "data": {
      "image/png": "[encoded data removed]",
      "text/plain": [
       "<Figure size 750x500 with 1 Axes>"
      ]
     },
     "metadata": {},
     "output_type": "display_data"
    }
   ],
   "source": [
    "g = sns.catplot(data = revenue_by_size, x = 'size', y = 'revenue', kind = 'bar', color = color_graph, aspect = 1.5)\n",
    "g.set(title = 'Total revenue by size of the pizza')\n",
    "g.set(xlabel = 'Size of the pizza', ylabel = 'Revenue $us.')\n",
    "plt.show()"
   ]
  },
  {
   "attachments": {},
   "cell_type": "markdown",
   "id": "96f0a0ff-abd5-428d-b881-65eb2c710ebf",
   "metadata": {
    "tags": []
   },
   "source": [
    "## 4. What's our average order value?"
   ]
  },
  {
   "attachments": {},
   "cell_type": "markdown",
   "id": "80d76496-81f9-4505-8973-f8a58c35f2db",
   "metadata": {},
   "source": [
    "- The picture below shows the average number of orders by day of the week.\n",
    "    - **Friday** is the day of the week with the **highest average order value** (66 orders)\n",
    "    - **Sunday** is the day of the week with the **lowest average order value** (49 orders)"
   ]
  },
  {
   "cell_type": "code",
   "execution_count": 59,
   "id": "eb5cdeeb-a7d3-47a4-9347-95d0c6822076",
   "metadata": {},
   "outputs": [],
   "source": [
    "orders_by_week_day = orders.groupby(by = ['week', 'day'], as_index = False)['date_time'].count()"
   ]
  },
  {
   "cell_type": "code",
   "execution_count": 60,
   "id": "a50b9229-8018-4746-8751-44b5b685bd23",
   "metadata": {},
   "outputs": [],
   "source": [
    "orders_by_week_day = orders_by_week_day.rename(columns = {'date_time': 'count'})"
   ]
  },
  {
   "cell_type": "code",
   "execution_count": 61,
   "id": "4cf8e675-8107-4f92-8408-4b1fd2ae8ad0",
   "metadata": {},
   "outputs": [],
   "source": [
    "avg_orders_by_day = orders_by_week_day.groupby(by = 'day', as_index = False)['count'].mean()"
   ]
  },
  {
   "cell_type": "code",
   "execution_count": 62,
   "id": "22c1ae6b-3907-4943-827d-d8a5aa3f5e1d",
   "metadata": {},
   "outputs": [
    {
     "data": {
      "image/png": "[encoded data removed]",
      "text/plain": [
       "<Figure size 750x500 with 1 Axes>"
      ]
     },
     "metadata": {},
     "output_type": "display_data"
    }
   ],
   "source": [
    "g = sns.catplot(data = avg_orders_by_day, x = 'day', y = 'count', kind = 'bar', color = color_graph, aspect = 1.5)\n",
    "g.set(title = 'Average number of orders by day of the week')\n",
    "g.set(xlabel = 'Day of the week', ylabel = 'Number of pizzas ordered')\n",
    "plt.show()"
   ]
  },
  {
   "attachments": {},
   "cell_type": "markdown",
   "id": "0b99d9c4-699c-4e6c-8694-8733652a361f",
   "metadata": {},
   "source": [
    "- Plato's Pizzea has an **average of 57 orders in a day of the week** with a standard deviation of 14 orders."
   ]
  },
  {
   "cell_type": "code",
   "execution_count": 63,
   "id": "50494485-67b2-4de2-94fe-e7db3610df51",
   "metadata": {},
   "outputs": [
    {
     "data": {
      "text/plain": [
       "57"
      ]
     },
     "execution_count": 63,
     "metadata": {},
     "output_type": "execute_result"
    }
   ],
   "source": [
    "math.floor(orders_by_week_day['count'].mean()) # Value is round down"
   ]
  },
  {
   "cell_type": "code",
   "execution_count": 64,
   "id": "4bc7173e-adb6-4093-ac1a-da9a8ab1a793",
   "metadata": {},
   "outputs": [
    {
     "data": {
      "text/plain": [
       "14"
      ]
     },
     "execution_count": 64,
     "metadata": {},
     "output_type": "execute_result"
    }
   ],
   "source": [
    "math.floor(orders_by_week_day['count'].std()) # Value is round down"
   ]
  },
  {
   "attachments": {},
   "cell_type": "markdown",
   "id": "b8891e82-924e-4944-893c-a301d4be73fb",
   "metadata": {},
   "source": [
    "- The picture below shows the average number of orders by hour of the day.\n",
    "    - \"12:00\" is the hour of the day with the **highest average order value** (7 orders)\n",
    "    - \"09:00, 10:00 and 23:00\" are the hours of the day with the **lowest average order values** (1 order)"
   ]
  },
  {
   "cell_type": "code",
   "execution_count": 65,
   "id": "9c9c883e-daa6-49cd-9a2f-a1225431c588",
   "metadata": {},
   "outputs": [],
   "source": [
    "orders_by_hours = orders.groupby(by = ['week', 'day', 'hour'], as_index = False)['date_time'].count()"
   ]
  },
  {
   "cell_type": "code",
   "execution_count": 66,
   "id": "2405b022-7cd3-455a-a877-2e6bb1832301",
   "metadata": {},
   "outputs": [],
   "source": [
    "orders_by_hours = orders_by_hours.rename(columns = {'date_time': 'count'})"
   ]
  },
  {
   "cell_type": "code",
   "execution_count": 67,
   "id": "b28e7736-8d1e-4a75-b5f3-d9f7fa7b4c5f",
   "metadata": {},
   "outputs": [],
   "source": [
    "avg_orders_by_hours = orders_by_hours.groupby(by = 'hour', as_index = False)['count'].mean()"
   ]
  },
  {
   "cell_type": "code",
   "execution_count": 68,
   "id": "217db567-66da-4af7-966f-033295b95515",
   "metadata": {},
   "outputs": [
    {
     "data": {
      "image/png": "[encoded data removed]",
      "text/plain": [
       "<Figure size 750x500 with 1 Axes>"
      ]
     },
     "metadata": {},
     "output_type": "display_data"
    }
   ],
   "source": [
    "g = sns.catplot(data = avg_orders_by_hours, x = 'hour', y = 'count', kind = 'bar', color = color_graph, aspect = 1.5)\n",
    "g.set(title = 'Average number of orders by hour of the day')\n",
    "g.set(xlabel = 'Hour of the day', ylabel = 'Number of pizzas ordered')\n",
    "plt.show()"
   ]
  },
  {
   "attachments": {},
   "cell_type": "markdown",
   "id": "3785a282-f346-4c81-b18c-414e12242daf",
   "metadata": {},
   "source": [
    "- Plato's Pizza has an **average of 3 orders in one hour of the day** with a standard deviation of 3 orders."
   ]
  },
  {
   "cell_type": "code",
   "execution_count": 69,
   "id": "2b6d5c61-2585-46ab-bbf4-82dc586fdac2",
   "metadata": {},
   "outputs": [
    {
     "data": {
      "text/plain": [
       "3"
      ]
     },
     "execution_count": 69,
     "metadata": {},
     "output_type": "execute_result"
    }
   ],
   "source": [
    "math.floor(orders_by_hours['count'].mean()) # Value is round down"
   ]
  },
  {
   "cell_type": "code",
   "execution_count": 70,
   "id": "45a27e31-ad94-4915-ae06-c9479a12595f",
   "metadata": {},
   "outputs": [
    {
     "data": {
      "text/plain": [
       "3"
      ]
     },
     "execution_count": 70,
     "metadata": {},
     "output_type": "execute_result"
    }
   ],
   "source": [
    "math.floor(orders_by_hours['count'].std()) # Value is round down"
   ]
  }
 ],
 "metadata": {
  "kernelspec": {
   "display_name": "Python 3 (ipykernel)",
   "language": "python",
   "name": "python3"
  },
  "language_info": {
   "codemirror_mode": {
    "name": "ipython",
    "version": 3
   },
   "file_extension": ".py",
   "mimetype": "text/x-python",
   "name": "python",
   "nbconvert_exporter": "python",
   "pygments_lexer": "ipython3",
   "version": "3.11.3"
  },
  "toc-autonumbering": false,
  "toc-showcode": false,
  "toc-showmarkdowntxt": false
 },
 "nbformat": 4,
 "nbformat_minor": 5
}
